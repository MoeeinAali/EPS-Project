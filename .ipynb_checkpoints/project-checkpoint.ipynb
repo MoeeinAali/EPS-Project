{
 "cells": [
  {
   "cell_type": "markdown",
   "metadata": {
    "pycharm": {
     "name": "#%% md\n"
    }
   },
   "source": [
    "<div style=\"direction:rtl;line-height:300%;\">\n",
    "\t<font face=\"XB Zar\" size=5>\n",
    "\t\t<div align=center>\n",
    "\t\t\t<font face=\"IranNastaliq\" size=30>\n",
    "\t\t\t\t<p></p>\n",
    "\t\t\t\t<p></p>\n",
    "به نام خدا\n",
    "\t\t\t\t<p></p>\n",
    "\t\t\t</font>\n",
    "\t\t\t<font color=#FF7500>\n",
    "دانشگاه صنعتی شریف - دانشکده مهندسی کامپیوتر\n",
    "            </font>\n",
    "\t\t\t<p></p>\n",
    "\t\t\t<font color=blue>\n",
    "                آمار و احتمال مهندسی دکتر جعفری\n",
    "            </font>\n",
    "\t\t\t<br />\n",
    "\t\t\t<br />\n",
    "بهار 1402\n",
    "\t\t</div>\n",
    "\t\t<hr/>\n",
    "\t\t<font color=red size=6>\n",
    "\t\t\t<br />\n",
    "\t\t\t<div align=center>\n",
    "پروژه\n",
    "            </div>\n",
    "\t\t</font>\n",
    "\t\t<br />\n",
    "\t\t<div align=center>\n",
    "        </div>\n",
    "</font>\n",
    "</div>"
   ]
  },
  {
   "cell_type": "markdown",
   "metadata": {
    "pycharm": {
     "name": "#%% md\n"
    }
   },
   "source": [
    "<p></p>\n",
    "<br />\n",
    "<div id=\"sec_intro\" style=\"direction:rtl;line-height:300%;\">\n",
    "\t<font face=\"XB Zar\" size=5>\n",
    "\t\t<font color=#FF7500 size=6>\n",
    "مقدمه\n",
    "        </font>\n",
    "\t\t<p></p>\n",
    "\t\t<hr>\n",
    "        فرض کنید یک آزمایش با خروجی تصادفی در اختیار دارید و در این آزمایش مقدار یک کمیت را بررسی می‌کنید. این  کمیت یک متغیر تصادفی‌ست. ممکن است از خود بپرسید امید ریاضی این متغیر تصادفی چیست؟ بر خلاف تمام متغیرهای تصافی که تاکنون دیده‌ایم، توزیع این متغیر تصادفی را نداریم. بنابراین نمی‌توانیم از تعریف ریاضیاتی امید ریاضی استفاده کنیم. پس احتمالا مطابق با شهودی که از علم احتمال داریم آزمایش را چندین بار تکرار می‌کنیم، نتایج را یادداشت می‌کنیم و سپس میانگین حسابی این نتایج را به عنوان امید ریاضی این متغیر تصادفی گزارش خواهیم کرد. اما آیا این مقدار واقعا همان  امید ریاضی مد نظر ماست؟ حتی اگر این کار را تکرار کنیم نتایج متفاوتی کسب می‌کنیم (چرا که این میانگین خود یک متغیر تصادفی است). پس درباره‌ی نتیجه‌ی به‌دست آمده چه می‌توان گفت؟\n",
    "<br />\n",
    "<br />\n",
    "        در اینجا قانون اعداد بزرگ به کمک ما می‌آید. این قانون (به طور شهودی) بیان می‌کند که هر چه آزمایش را بیشتر تکرار کنیم، میانگین نتایج به یک عدد مشخص میل می‌کند که همان امید ریاضی متغیر تصادفی مد نظر ماست. این قانون دو شکل کلی دارد که تعریف هرکدام در ادامه آمده است.\n",
    "        <br>\n",
    "    </font>\n",
    "</div>"
   ]
  },
  {
   "cell_type": "markdown",
   "metadata": {
    "pycharm": {
     "name": "#%% md\n"
    }
   },
   "source": [
    "<p></p>\n",
    "<br />\n",
    "<div id=\"sec_strong\" style=\"direction:rtl;line-height:300%;\">\n",
    "\t<font face=\"XB Zar\" size=5>\n",
    "\t\t<font color=#FF7500 size=6>\n",
    "        قانون قوی اعداد بزرگ\n",
    "        </font>\n",
    "\t\t<p></p>\n",
    "\t\t<hr>\n",
    "       فرض کنید $X_1,X_2,...$ دنباله‌ای از متغیرهای تصادفی مستقل با توزیع یکسان باشد که هر کدام دارای میانگین متناهی به صورت $E[X_i]=\\mu$ باشد. آنگاه با احتمال ۱،\n",
    "        <br/>\n",
    "        $$\\frac{X_1 + \\ldots +X_n}{n}\\rightarrow \\mu\\quad as\\quad n\\rightarrow \\infty$$\n",
    "        </font>\n",
    "</div>\n",
    "\n"
   ]
  },
  {
   "cell_type": "markdown",
   "metadata": {
    "pycharm": {
     "name": "#%% md\n"
    }
   },
   "source": [
    "<div id=\"sec_die_tossing\" style=\"direction:rtl;line-height:300%;\">\n",
    "\t<font face=\"XB Zar\" size=5>\n",
    "\t\t<font color=#FF7500 size=6>\n",
    "سوال اول\n",
    "        </font>\n",
    "\t\t<p></p>\n",
    "\t\t<hr>\n",
    "     از شما پرسیده شده است احتمال اینکه در ۱۰۰ پرتاب متوالی تاس ۱۰ بار پشت سر هم یک روی سکه را ببینیم را حساب کنید. شما برای پاسخ به این مسئله باید $n$ بار پرتاب ۱۰۰ سکه را شبیه‌سازی و تعداد بار‌هایی که این رویداد رخ داده است را حساب کنید و نتیجه را گزارش کنید. \n",
    "    </font>\n",
    "</div>"
   ]
  },
  {
   "cell_type": "code",
   "execution_count": 1,
   "metadata": {
    "pycharm": {
     "name": "#%%\n"
    }
   },
   "outputs": [
    {
     "name": "stdout",
     "output_type": "stream",
     "text": [
      "num_success:2029\n",
      "Estimated probability:0.002029\n"
     ]
    }
   ],
   "source": [
    "import random\n",
    "\n",
    "# number of simulations\n",
    "n = 1000000\n",
    "# number of flips in each simulation\n",
    "n_flips = 10\n",
    "# Keep track of \"successes\"\n",
    "num_success = 0\n",
    "cnt = 0\n",
    "buff1 = random.randint(0, 1)\n",
    "for i in range(2, n + 1):\n",
    "    if cnt >= n_flips - 1:\n",
    "        num_success = num_success + 1\n",
    "    buff2 = buff1\n",
    "    buff1 = random.randint(0, 1)\n",
    "    if buff1 == buff2:\n",
    "        cnt = cnt + 1\n",
    "    else:\n",
    "        cnt = 0\n",
    "print(\"num_success:\" + str(num_success))\n",
    "print(\"Estimated probability:\" + str(num_success / n))\n",
    "\n",
    "\n",
    "# E[x] = 0.002"
   ]
  },
  {
   "cell_type": "markdown",
   "metadata": {
    "pycharm": {
     "name": "#%% md\n"
    }
   },
   "source": [
    "<div id=\"sec_die_tossing\" style=\"direction:rtl;line-height:300%;\">\n",
    "\t<font face=\"XB Zar\" size=5>\n",
    "     برای این سوال یک راه‌حل ترکیباتی ارائه دهید و صحت جواب خود را بسنجید. \n",
    "    </font>\n",
    "</div>"
   ]
  },
  {
   "cell_type": "code",
   "execution_count": null,
   "metadata": {
    "pycharm": {
     "name": "#%%\n"
    }
   },
   "outputs": [],
   "source": []
  },
  {
   "cell_type": "markdown",
   "metadata": {
    "pycharm": {
     "name": "#%% md\n"
    }
   },
   "source": [
    "<div id=\"sec_poisson\" style=\"direction:rtl;line-height:300%;\">\n",
    "\t<font face=\"XB Zar\" size=5>\n",
    "\t\t<font color=#FF7500 size=6>\n",
    "سوال دوم\n",
    "        </font>\n",
    "        \t\t<p></p>\n",
    "\t\t<hr>\n",
    "از بین اعداد ۱ تا ۱۳، سه عدد متفاوت   $a$, $b$, $c$ را انتخاب می‌کنیم. چقدر احتمال دارد که بتوان با آن‌ها تشکیل مثلث داد؟ \n",
    "    </font>\n",
    "</div>"
   ]
  },
  {
   "cell_type": "code",
   "execution_count": 1,
   "metadata": {
    "pycharm": {
     "name": "#%%\n"
    }
   },
   "outputs": [
    {
     "name": "stdout",
     "output_type": "stream",
     "text": [
      "\n",
      "\n",
      "num_success:437132\n",
      "Estimated probability:0.437132\n"
     ]
    }
   ],
   "source": [
    "import random\n",
    "\n",
    "# Number of simulation\n",
    "n = 1000000\n",
    "# Range\n",
    "m = 13\n",
    "# Keep track of \"successes\"\n",
    "num_success = 0\n",
    "\n",
    "file = open(\"Q2_Output.txt\", \"w\")\n",
    "file.truncate(0)\n",
    "def select_three_random_numbers():\n",
    "    numbers = random.sample(range(1, m + 1), 3)\n",
    "    return numbers\n",
    "\n",
    "for i in range(1, n + 1):\n",
    "    random_numbers = select_three_random_numbers()\n",
    "    file.write(str(random_numbers[0])+\" \"+str(random_numbers[1])+\" \"+str(random_numbers[2])+\"\\n\")\n",
    "    if abs(random_numbers[0] - random_numbers[1]) < random_numbers[2] and random_numbers[2] < (random_numbers[0] + random_numbers[1]):\n",
    "        file.write(\"Success !\"+\"\\n\")\n",
    "        num_success = num_success + 1\n",
    "\n",
    "# Estimated probability\n",
    "file.write(\"\\n\\nnum_success:\" + str(num_success)+\"\\n\")\n",
    "print(\"\\n\\nnum_success:\" + str(num_success))\n",
    "file.write(\"Estimated probability:\" + str(num_success / n))\n",
    "print(\"Estimated probability:\" + str(num_success / n))\n",
    "\n",
    "# E[x] = 0.145"
   ]
  },
  {
   "cell_type": "markdown",
   "metadata": {
    "pycharm": {
     "name": "#%% md\n"
    }
   },
   "source": [
    "<div id=\"sec_poisson\" style=\"direction:rtl;line-height:300%;\">\n",
    "\t<font face=\"XB Zar\" size=5>\n",
    "سوال را به جای ۱۳ برای اعداد مختلف محاسبه کنید. به راه‌حل ترکیبیاتی سوال فکر کنید. به نظر شما آیا وجود دارد؟ \n",
    "    </font>\n",
    "</div>"
   ]
  },
  {
   "cell_type": "markdown",
   "metadata": {
    "pycharm": {
     "name": "#%% md\n"
    }
   },
   "source": [
    "<div dir = \"rtl\" style=\"direction:rtl;line-height:250%;\">\n",
    "\t<font face=\"XB Zar\" size=5>\n",
    "\t\t<font color=#FF7500 size=6>\n",
    "             سوال سوم\n",
    "        </font>\n",
    "        <hr/>\n",
    "       در این سوال قصد داریم مرحله پلی‌آف مسابقات NBA را شبیه سازی کنیم.\n",
    "     هر بازی در مرحله پلی آف به صورت ۴ از ۷ برگزار می‌شود، به این معنی که بازی ۲ تیم تا وقتی یکی از بینشان ۴ پیروزی کسب کند\n",
    "        ادامه پیدا می‌کند.\n",
    "        حال شما برای شروع کافی است تابعی بنویسید که احتمال برد یک سری از بازی را محاسبه کند.\n",
    "        میتوانید این سری را ۱۰۰۰ بار تکرار کنید و تعداد باری که تیم با احتمال برد $p$ برنده میشود را گزارش کنید.\n",
    "        فرض کنید تیم یک در هر بازی به احتمال $p$ برنده می‌شود\n",
    "        و بسکتبال تساوی هم ندارد.\n",
    "    </font>\n",
    "</div>"
   ]
  },
  {
   "cell_type": "code",
   "execution_count": 48,
   "metadata": {
    "pycharm": {
     "name": "#%%\n"
    }
   },
   "outputs": [
    {
     "name": "stdout",
     "output_type": "stream",
     "text": [
      "Team 1 wons 49973 times !\n",
      "Team 2 wons 50027 times !\n",
      "*********************************************\n",
      "p = 0.5\n",
      "Probability of Team1 is : 0.49973\n",
      "Probability of Team2 is : 0.50027\n"
     ]
    }
   ],
   "source": [
    "import random\n",
    "\n",
    "wons_team1 = 0\n",
    "wons_team2 = 0\n",
    "p = 0.5\n",
    "n = 100000\n",
    "for j in range(1, n + 1):\n",
    "    team1 = 0\n",
    "    team2 = 0\n",
    "    for i in range(1, 9):\n",
    "        if team1 == 4:\n",
    "            wons_team1 = wons_team1 + 1\n",
    "            break\n",
    "        if team2 == 4:\n",
    "            wons_team2 = wons_team2 + 1\n",
    "            break\n",
    "\n",
    "        buff = random.randint(1, 2)\n",
    "        if buff == 1:\n",
    "            team1 = team1 + 1\n",
    "        else:\n",
    "            team2 = team2 + 1\n",
    "\n",
    "print(\"Team 1 wons \" + str(wons_team1) + \" times !\")\n",
    "print(\"Team 2 wons \" + str(wons_team2) + \" times !\")\n",
    "print(\"*********************************************\")\n",
    "print(\"p = \"+str(p))\n",
    "print(\"Probability of Team1 is : \"+str(wons_team1/n))\n",
    "print(\"Probability of Team2 is : \"+str(wons_team2/n))"
   ]
  },
  {
   "cell_type": "markdown",
   "metadata": {
    "pycharm": {
     "name": "#%% md\n"
    }
   },
   "source": [
    "<div dir = \"rtl\" style=\"direction:rtl;line-height:250%;\">\n",
    "\t<font face=\"XB Zar\" size=5>\n",
    "        حال برای $p$ های بزرگتر از نیم احتمال برنده شدن سری را محاسبه کنید.\n",
    "        و نمودار مناسبی برای نمایش این اعداد رسم کنید.\n",
    "        </font>\n",
    "        </div>"
   ]
  },
  {
   "cell_type": "code",
   "execution_count": 2,
   "metadata": {
    "pycharm": {
     "name": "#%%\n"
    }
   },
   "outputs": [
    {
     "name": "stdout",
     "output_type": "stream",
     "text": [
      "Team 1 wons 710280 times !\n",
      "Team 2 wons 289720 times !\n",
      "*********************************************\n",
      "p = 0.6\n",
      "Probability of Team1 is : 0.71028\n",
      "Probability of Team2 is : 0.28972\n"
     ]
    }
   ],
   "source": [
    "import random\n",
    "\n",
    "p = 0.6  # Probability of Won of Team1\n",
    "n = 1000000  # Number of Matches\n",
    "values = [1, 2]  # List of values\n",
    "probabilities = [p, 1 - p]  # List of probabilities\n",
    "\n",
    "wons_team1 = 0  # Counter of Wons of Team1\n",
    "wons_team2 = 0  # Counter of Wons of Team2\n",
    "\n",
    "for j in range(1, n + 1):\n",
    "    team1 = 0\n",
    "    team2 = 0\n",
    "    for i in range(1, 9):\n",
    "        if team1 == 4:\n",
    "            wons_team1 = wons_team1 + 1\n",
    "            break\n",
    "        if team2 == 4:\n",
    "            wons_team2 = wons_team2 + 1\n",
    "            break\n",
    "\n",
    "        buff = random.choices(values, probabilities)[0]\n",
    "        if buff == 1:\n",
    "            team1 = team1 + 1\n",
    "        else:\n",
    "            team2 = team2 + 1\n",
    "\n",
    "print(\"Team 1 wons \" + str(wons_team1) + \" times !\")\n",
    "print(\"Team 2 wons \" + str(wons_team2) + \" times !\")\n",
    "print(\"*********************************************\")\n",
    "print(\"p = \"+str(p))\n",
    "print(\"Probability of Team1 is : \"+str(wons_team1/n))\n",
    "print(\"Probability of Team2 is : \"+str(wons_team2/n))"
   ]
  },
  {
   "cell_type": "markdown",
   "metadata": {
    "pycharm": {
     "name": "#%% md\n"
    }
   },
   "source": [
    "<div dir = \"rtl\" style=\"direction:rtl;line-height:250%;\">\n",
    "\t<font face=\"XB Zar\" size=5>\n",
    "       با رسم نمودار برای $n$ و $p$ های مختلف نشان دهید برای تیم های قوی تر\n",
    "        هر چه تعداد $n$ بیشتر باشد\n",
    "        احتمال اینکه یک سری را ببازند کمتر می‌شود و این نسبت را ببینید، مثلا برای $p = 0.6$ مقادیر مختلف $n$ را بررسی کنید.\n",
    "        </font>\n",
    "        </div>"
   ]
  },
  {
   "cell_type": "code",
   "execution_count": null,
   "metadata": {
    "pycharm": {
     "name": "#%%\n"
    }
   },
   "outputs": [],
   "source": []
  },
  {
   "cell_type": "markdown",
   "metadata": {
    "pycharm": {
     "name": "#%% md\n"
    }
   },
   "source": [
    "<div dir = \"rtl\" style=\"direction:rtl;line-height:250%;\">\n",
    "\t<font face=\"XB Zar\" size=5>\n",
    "       می‌دانیم از این ۷ سری بازی ۴ بازی در زمین تیم ۱ و ۳ بازی در زمین تیم ۲ انجام می‌شوند.\n",
    "            تابع قسمت قبل را به نحوی بازسازی کنید که هم احتمال برد در خانه و احتمال برد خارج از خانه و اینکه ۴ بازی می‌کند یا ۳ بازی را دریافت و مانند تابع قبلی احتمال برد\n",
    "       .سری را حساب کند\n",
    "        </font>\n",
    "</div>"
   ]
  },
  {
   "cell_type": "code",
   "execution_count": 9,
   "metadata": {
    "pycharm": {
     "name": "#%%\n"
    }
   },
   "outputs": [
    {
     "name": "stdout",
     "output_type": "stream",
     "text": [
      "please enter number of Rounds :1000\n",
      "please enter number of Team1 games (3 or 4) :4\n",
      "please enter probability of team1 in home (between 0,1) :0.8\n",
      "please enter probability of team1 out of home (between 0,1) :0.5\n",
      "Team 1 wons 833 times !\n",
      "Team 2 wons 167 times !\n",
      "*********************************************\n",
      "Probability of Team1 is : 0.833\n",
      "Probability of Team2 is : 0.167\n",
      "*********************************************\n"
     ]
    }
   ],
   "source": [
    "import random\n",
    "n = int(input(\"please enter number of Rounds :\"))\n",
    "games_cnt_team1 = int(input(\"please enter number of Team1 games (3 or 4) :\"))\n",
    "games_cnt_team2 = 7 - games_cnt_team1\n",
    "probability_win_home_in = float(input(\"please enter probability of team1 in home (between 0,1) :\"))\n",
    "probability_win_home_out = float(input(\"please enter probability of team1 out of home (between 0,1) :\"))\n",
    "values = [1, 2]\n",
    "probabilities_in = [probability_win_home_in, 1 - probability_win_home_in]\n",
    "probabilities_out = [probability_win_home_out, 1 - probability_win_home_out]\n",
    "\n",
    "cnt_team1 = 0\n",
    "cnt_team2 = 0\n",
    "for i in range(1, n+1):\n",
    "    wins_team1 = 0\n",
    "    wins_team2 = 0\n",
    "    for j in range(1, 9):\n",
    "        if wins_team2 == 4:\n",
    "            cnt_team2 = cnt_team2 + 1\n",
    "            # print(\"team 2\")\n",
    "            break\n",
    "        elif wins_team1 == 4:\n",
    "            cnt_team1 = cnt_team1 + 1\n",
    "            # print(\"team 1\")\n",
    "            break\n",
    "        which_ground = random.randint(1, 2)\n",
    "        if which_ground == 1:\n",
    "            buff = random.choices(values, probabilities_in)[0]\n",
    "            if buff == 1:\n",
    "                wins_team1 = wins_team1 + 1\n",
    "            else:\n",
    "                wins_team2 = wins_team2 + 1\n",
    "        else:\n",
    "            buff = buff = random.choices(values, probabilities_out)[0]\n",
    "            if buff == 1:\n",
    "                wins_team1 = wins_team1 + 1\n",
    "            else:\n",
    "                wins_team2 = wins_team2 + 1\n",
    "print(\"Team 1 wons \" + str(cnt_team1) + \" times !\")\n",
    "print(\"Team 2 wons \" + str(cnt_team2) + \" times !\")\n",
    "print(\"*********************************************\")\n",
    "print(\"Probability of Team1 is : \"+str(cnt_team1/n))\n",
    "print(\"Probability of Team2 is : \"+str(cnt_team2/n))\n",
    "print(\"*********************************************\")"
   ]
  },
  {
   "cell_type": "markdown",
   "metadata": {
    "pycharm": {
     "name": "#%% md\n"
    }
   },
   "source": [
    "<div dir = \"rtl\" style=\"direction:rtl;line-height:250%;\">\n",
    "\t<font face=\"XB Zar\" size=5>\n",
    "       به ازای مقادیر مختلف احتمال برد در خانه، احتمال برد در خارج از خانه و تعداد بازی در خانه نمودار مناسبی برای احتمال برد سری رسم کنید.\n",
    "    </font>\n",
    "</div>"
   ]
  },
  {
   "cell_type": "code",
   "execution_count": null,
   "metadata": {
    "pycharm": {
     "name": "#%%\n"
    }
   },
   "outputs": [],
   "source": []
  },
  {
   "cell_type": "markdown",
   "metadata": {
    "pycharm": {
     "name": "#%% md\n"
    }
   },
   "source": [
    "<div dir = \"rtl\" style=\"direction:rtl;line-height:250%;\">\n",
    "\t<font face=\"XB Zar\" size=5>\n",
    "        نموداری رسم کنید که تاثیر شروع        \n",
    "         بازی در خانه یا خارج از خانه را نشان دهد.\n",
    "    </font>\n",
    "</div>"
   ]
  },
  {
   "cell_type": "code",
   "execution_count": null,
   "metadata": {
    "pycharm": {
     "name": "#%%\n"
    }
   },
   "outputs": [],
   "source": []
  },
  {
   "cell_type": "markdown",
   "metadata": {
    "pycharm": {
     "name": "#%% md\n"
    }
   },
   "source": [
    "<div dir = \"rtl\" style=\"direction:rtl;line-height:250%;\">\n",
    "\t<font face=\"XB Zar\" size=5>\n",
    "\t\t<font color=#FF7500 size=6>\n",
    "            سوال چهارم\n",
    "        </font>\n",
    "        <hr/>\n",
    "            ابتدا ۱۰۰۰ لیست ۱۵ تایی (مرتب) از متغیرهای تصادفی iid با توزیع\n",
    "            Uniform(0,1)\n",
    "            تولید کنید. سپس عناصر اول مربوط به هر لیست را در یک بردار ذخیره کنید(مثلا $a$).\n",
    "            همینکار را برای عضو های ۱۰ام و ۱۵ام انجام دهید و در ۲ بردار ذخیره کنید(مثلا $b$ و $c$).\n",
    "            حال به ازای هر بردار، از توزیع بتای متناسب(با انتخاب پارامتر های مناسب) با آن به اندازه طول بردار نمونه گیری کنید و نمودار چگالی مربوط   \n",
    "            به بردار و نمونه ها را با هم رسم کنید.\n",
    "            سپس مقدار اکسپکتد تمام ۱۵ مقدار را محاسبه کنید. و نتیجه را گزارش کنید.           \n",
    "            از سرچ کردن واژه orderstats در اینترنت هم غافل نشوید.\n",
    "    </font>\n",
    "</div>"
   ]
  },
  {
   "cell_type": "code",
   "execution_count": 10,
   "metadata": {
    "pycharm": {
     "name": "#%%\n"
    }
   },
   "outputs": [
    {
     "data": {
      "image/png": "[encoded data removed]",
      "text/plain": [
       "<Figure size 640x480 with 1 Axes>"
      ]
     },
     "metadata": {},
     "output_type": "display_data"
    },
    {
     "name": "stdout",
     "output_type": "stream",
     "text": [
      "Expected Value: 0.5427915985384024\n"
     ]
    }
   ],
   "source": [
    "import random\n",
    "import numpy as np\n",
    "import matplotlib.pyplot as plt\n",
    "from scipy.stats import beta\n",
    "\n",
    "num_lists = 1000\n",
    "list_length = 15\n",
    "lists = []\n",
    "for i in range(num_lists):\n",
    "    random_list = sorted([random.uniform(0, 1) for i in range(list_length)])\n",
    "    lists.append(random_list)\n",
    "lists_np = np.array(lists)\n",
    "a = lists_np[:, 0]\n",
    "b = lists_np[:, 9]\n",
    "c = lists_np[:, 14]\n",
    "\n",
    "alpha_a = 1\n",
    "beta_a = 1\n",
    "\n",
    "alpha_b = 2\n",
    "beta_b = 2\n",
    "\n",
    "alpha_c = 3\n",
    "beta_c = 1\n",
    "\n",
    "dist_a = beta(alpha_a, beta_a)\n",
    "dist_b = beta(alpha_b, beta_b)\n",
    "dist_c = beta(alpha_c, beta_c)\n",
    "\n",
    "sample_size = len(a)\n",
    "sample_a = dist_a.rvs(size=len(a))\n",
    "sample_b = dist_b.rvs(size=len(b))\n",
    "sample_c = dist_b.rvs(size=len(c))\n",
    "\n",
    "# نمودار چگالی برای هر بردار\n",
    "x = np.linspace(0, 1, 1000)\n",
    "plt.plot(x, dist_a.pdf(x), label='a')\n",
    "plt.plot(x, dist_b.pdf(x), label='b')\n",
    "plt.plot(x, dist_c.pdf(x), label='c')\n",
    "\n",
    "# نمونه ها را نمایش میدهد\n",
    "plt.hist(sample_a, density=True, alpha=0.5)\n",
    "plt.hist(sample_b, density=True, alpha=0.5)\n",
    "plt.hist(sample_c, density=True, alpha=0.5)\n",
    "\n",
    "plt.legend()\n",
    "plt.xlabel('Values')\n",
    "plt.ylabel('Density')\n",
    "plt.title('Beta Distribution')\n",
    "plt.show()\n",
    "\n",
    "expected_value = np.mean(np.concatenate([a, b, c]))\n",
    "print(\"Expected Value:\", expected_value)"
   ]
  },
  {
   "cell_type": "markdown",
   "metadata": {
    "pycharm": {
     "name": "#%% md\n"
    }
   },
   "source": []
  },
  {
   "cell_type": "markdown",
   "metadata": {
    "pycharm": {
     "name": "#%% md\n"
    }
   },
   "source": [
    "<div dir = \"rtl\" style=\"direction:rtl;line-height:250%;\">\n",
    "\t<font face=\"XB Zar\" size=5>\n",
    "\t\t<font color=#FF7500 size=6>\n",
    "            سوال پنجم\n",
    "        </font>\n",
    "        <hr/>\n",
    "                      انتگرال‌گیری مونت کارلو:<br>\n",
    "              یکی از مسائل معروف دنیای ریاضی محاسبه انتگرال یک تابع در یک بازه مشخص است. فرض کنید می‌خواهیم انتگرال تابع $f: \\mathbb{R} \\mapsto [0, c]$ را در بازه $[a,b]$ محاسبه کنیم. یک راه برای انجام این کار انتخاب تعداد زیادی نقطه دو بعدی تصادفی با توزیع یکنواخت در ناحیه $a \\leq x \\leq b$ و $0\\leq y \\leq c$ است.\n",
    "              <br>\n",
    "              حال متغیر تصادفی $I_j$ را به این صورت تعریف می‌کنیم:\n",
    "        اگر  $y_j \\leq f(x_j)$ بود و یا به عبارتی دیگر نقطه $j$ام زیر نمودار $f$ بود $I_j$ برابر با یک است و در غیر این صورت صفر.\n",
    "              <br>\n",
    "              $I_j$ها یک مجموعه متغیر تصادفی برنولی مستقل از هم با توزیع یکسان تشکیل می‌دهند که امید ریاضی آن برابر است با احتمال یک بودن آن، که با توجه به یکنواخت بودن توزیع انتخاب نقاط برابر است با $\\frac{s}{c(b-a)}$ که $s$ مساحت زیر نمودار $f$ است. اگر تعداد نقاط را $n$ در نظر بگیریم، قانون اعداد بزرگ برای $n$های بزرگ نتیجه می‌دهد که\n",
    "              $$\\mathbb{E}(I) \\approx \\sum_{j=1}^{n}\\frac{1}{n}I_j \\implies s \\approx c(b-a)\\frac{1}{n}\\sum_{j=1}^{n}I_j \\implies \\int_{a}^{b}f(x)dx \\approx c(b-a)\\frac{1}{n}\\sum_{j=1}^{n}I_j$$\n",
    "              پس می‌توان با کمک نسبت تعداد نقاط زیر نمودار به کل نقاط حاصل انتگرال را تقریب زد و با افزایش تعداد این نقاط، این تقریب را به اندازه دلخواه بهتر کرد.\n",
    "              <img src=\"figs/integral.png\">\n",
    "              <br>\n",
    "        در این سوال قصد داریم چنین روندی را برای توابع تک متغیره پیش بگیریم.\n",
    "    </font>\n",
    "</div>"
   ]
  },
  {
   "cell_type": "markdown",
   "metadata": {
    "pycharm": {
     "name": "#%% md\n"
    }
   },
   "source": [
    "<div dir = \"rtl\" style=\"direction:rtl;line-height:250%;\">\n",
    "\t<font face=\"XB Zar\" size=5>\n",
    "        ابتدا تابعی پیاده‌سازی کنید که با ورودی گرفتن تابع $f$، بازه‌ی $[a, b]$ و عدد طبیعی $n$ که نمایانگر تعداد sampleها است، انتگرال تابع $f$ را در بازه‌ی مشخص شده تقریب بزند.\n",
    "    </font>\n",
    "</div>"
   ]
  },
  {
   "cell_type": "code",
   "execution_count": 1,
   "metadata": {
    "pycharm": {
     "name": "#%%\n"
    }
   },
   "outputs": [
    {
     "name": "stdout",
     "output_type": "stream",
     "text": [
      "f(x) = x integral approximation:  None\n"
     ]
    }
   ],
   "source": [
    "def monte_carlo_integral(f, a, b, n=1000000):\n",
    "    # your code goes here\n",
    "    pass\n",
    "\n",
    "# testing your code\n",
    "def linear_function(x):\n",
    "    return x\n",
    "\n",
    "a = 0\n",
    "b = 5\n",
    "\n",
    "approximation = monte_carlo_integral(linear_function, a, b)\n",
    "print(\"f(x) = x integral approximation: \", approximation)"
   ]
  },
  {
   "cell_type": "markdown",
   "metadata": {
    "pycharm": {
     "name": "#%% md\n"
    }
   },
   "source": [
    "<div dir = \"rtl\" style=\"direction:rtl;line-height:250%;\">\n",
    "\t<font face=\"XB Zar\" size=5>\n",
    "        <hr/>\n",
    "              حال چنین روندی را برای محاسبه‌ی انتگرال توابع زیر پیش بگیرید و حاصل آن را چاپ کنید:              $$ \n",
    "              f(x) = \n",
    "              \\begin{cases}\n",
    "                  0, & \\ |x| > 1 \\\\\n",
    "                  e^{x^2}, & \\text{otherwise}\n",
    "            \\end{cases}\n",
    "            $$ $$\n",
    "                g(x) = \n",
    "                \\begin{cases}\n",
    "                \\frac{\\sin x}{x}, & 0 < x < \\pi\\\\\n",
    "                0, &  \\text{otherwise}\n",
    "            \\end{cases}\n",
    "            $$\n",
    "    </font>\n",
    "</div>"
   ]
  },
  {
   "cell_type": "code",
   "execution_count": null,
   "metadata": {
    "pycharm": {
     "name": "#%%\n"
    }
   },
   "outputs": [],
   "source": [
    "def f(x):\n",
    "    # your code goes here\n",
    "    pass\n",
    "\n",
    "def g(x):\n",
    "    # your code goes here\n",
    "    pass\n",
    "\n",
    "# estimating integral of f and g over all real numbers\n",
    "# your code goes here"
   ]
  },
  {
   "cell_type": "markdown",
   "metadata": {
    "pycharm": {
     "name": "#%% md\n"
    }
   },
   "source": [
    "<p></p>\n",
    "<br />\n",
    "<div id=\"sec_usage\" style=\"direction:rtl;line-height:300%;\">\n",
    "\t<font face=\"XB Zar\" size=5>\n",
    "\t\t<font color=#FF7500 size=6>\n",
    "مطالعه بیشتر\n",
    "        </font>\n",
    "\t\t<p></p>\n",
    "\t\t<hr>\n",
    "        <ul>\n",
    "          <br>\n",
    "          <li>\n",
    "              به‌دست آوردن توزیع تجربی یک متغیر تصادفی:<br>\n",
    "              در بسیاری از موارد در دنیای واقعی برای بررسی متغیر‌های تصادفی توزیع تجمعی آن‌ها را نداریم و مجبوریم از طریق آزمایش‌های مکرر آن را تقریب بزنیم. فرض کنید متغیر‌های تصادفی $X_1$ تا $X_n$ متغیر‌های تصادفی مستقل با توزیع تجمعی یکسان $F(x)$ باشند. مانند مثال قبلی می‌توان متغیر تصادفی مشخصه $I_j$ را برای رویداد $X_j \\leq x$ تعریف کرد (دقت کنید که $X_j$ یک متغیر تصادفی و $x$ یک عدد حقیقیست). آنگاه می‌توان توزیع تجمعی تجربی را به شکل زیر تعریف کرد\n",
    "              $$\\hat{F}_n(x) = \\frac{1}{n}\\sum_{j=1}^{n}I_j$$ \n",
    "              از آنجایی که $\\mathbb{E}(I_j) = F(x)$ (چرا؟) مجددا قانون اعداد بزرگ به ما می‌گوید برای $n$های به اندازه کافی بزرگ تقریب زیر معتبر است\n",
    "              $$\\hat{F}_n(x) \\approx F(x)$$\n",
    "          </li>\n",
    "        </ul>\n",
    "        <br>\n",
    "        <b>نکته</b>:\n",
    "        در نمادگذاری دو مثال بالا اندکی ابهام وجود دارد چرا که یک متغیر تصادفی به تقریب برابر با یک عدد حقیقی قرار داده  شده است که در اینجا منظور این است که در صورت انجام آزمایش حاصل آن نزدیک به عدد حقیقی مد نظر خواهد بود. برای برداشت‌های دقیق‌تر می‌توان از تعریف دقیق (ضعیف یا قوی) قانون اعداد بزرگ استفاده کرد. \n",
    "    </font>\n",
    "</div>"
   ]
  }
 ],
 "metadata": {
  "kernelspec": {
   "display_name": "Python 3 (ipykernel)",
   "language": "python",
   "name": "python3"
  },
  "language_info": {
   "codemirror_mode": {
    "name": "ipython",
    "version": 3
   },
   "file_extension": ".py",
   "mimetype": "text/x-python",
   "name": "python",
   "nbconvert_exporter": "python",
   "pygments_lexer": "ipython3",
   "version": "3.9.13"
  },
  "latex_envs": {
   "LaTeX_envs_menu_present": true,
   "autoclose": false,
   "autocomplete": true,
   "bibliofile": "biblio.bib",
   "cite_by": "apalike",
   "current_citInitial": 1,
   "eqLabelWithNumbers": true,
   "eqNumInitial": 1,
   "hotkeys": {
    "equation": "Ctrl-E",
    "itemize": "Ctrl-I"
   },
   "labels_anchors": false,
   "latex_user_defs": false,
   "report_style_numbering": false,
   "user_envs_cfg": false
  },
  "toc": {
   "base_numbering": 1,
   "nav_menu": {},
   "number_sections": true,
   "sideBar": true,
   "skip_h1_title": false,
   "title_cell": "Table of Contents",
   "title_sidebar": "Contents",
   "toc_cell": false,
   "toc_position": {},
   "toc_section_display": true,
   "toc_window_display": false
  },
  "varInspector": {
   "cols": {
    "lenName": 16,
    "lenType": 16,
    "lenVar": 40
   },
   "kernels_config": {
    "python": {
     "delete_cmd_postfix": "",
     "delete_cmd_prefix": "del ",
     "library": "var_list.py",
     "varRefreshCmd": "print(var_dic_list())"
    },
    "r": {
     "delete_cmd_postfix": ") ",
     "delete_cmd_prefix": "rm(",
     "library": "var_list.r",
     "varRefreshCmd": "cat(var_dic_list()) "
    }
   },
   "types_to_exclude": [
    "module",
    "function",
    "builtin_function_or_method",
    "instance",
    "_Feature"
   ],
   "window_display": false
  }
 },
 "nbformat": 4,
 "nbformat_minor": 4
}
